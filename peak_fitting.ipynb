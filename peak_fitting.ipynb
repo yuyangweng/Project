{
  "nbformat": 4,
  "nbformat_minor": 0,
  "metadata": {
    "colab": {
      "name": "peak_fitting.ipynb",
      "provenance": [],
      "collapsed_sections": [],
      "authorship_tag": "ABX9TyO58yGHZnXwF/CU0kOWw9MS",
      "include_colab_link": true
    },
    "kernelspec": {
      "name": "python3",
      "display_name": "Python 3"
    },
    "language_info": {
      "name": "python"
    }
  },
  "cells": [
    {
      "cell_type": "markdown",
      "metadata": {
        "id": "view-in-github",
        "colab_type": "text"
      },
      "source": [
        "<a href=\"https://colab.research.google.com/github/yuyangweng/Project/blob/main/peak_fitting.ipynb\" target=\"_parent\"><img src=\"https://colab.research.google.com/assets/colab-badge.svg\" alt=\"Open In Colab\"/></a>"
      ]
    },
    {
      "cell_type": "markdown",
      "source": [
        "# **Peak** **Fitting**\n"
      ],
      "metadata": {
        "id": "cwIwWY8Ma6W8"
      }
    },
    {
      "cell_type": "code",
      "source": [
        "pip install lmfit"
      ],
      "metadata": {
        "colab": {
          "base_uri": "https://localhost:8080/"
        },
        "id": "VN4qZRVzW9ZF",
        "outputId": "69dc1855-1ea5-40d1-b71c-b4489ad5382a"
      },
      "execution_count": 2,
      "outputs": [
        {
          "output_type": "stream",
          "name": "stdout",
          "text": [
            "Looking in indexes: https://pypi.org/simple, https://us-python.pkg.dev/colab-wheels/public/simple/\n",
            "Collecting lmfit\n",
            "  Downloading lmfit-1.0.3.tar.gz (292 kB)\n",
            "\u001b[K     |████████████████████████████████| 292 kB 4.4 MB/s \n",
            "\u001b[?25hCollecting asteval>=0.9.22\n",
            "  Downloading asteval-0.9.27-py3-none-any.whl (17 kB)\n",
            "Requirement already satisfied: numpy>=1.18 in /usr/local/lib/python3.7/dist-packages (from lmfit) (1.21.6)\n",
            "Requirement already satisfied: scipy>=1.4 in /usr/local/lib/python3.7/dist-packages (from lmfit) (1.7.3)\n",
            "Collecting uncertainties>=3.0.1\n",
            "  Downloading uncertainties-3.1.7-py2.py3-none-any.whl (98 kB)\n",
            "\u001b[K     |████████████████████████████████| 98 kB 3.3 MB/s \n",
            "\u001b[?25hRequirement already satisfied: importlib-metadata in /usr/local/lib/python3.7/dist-packages (from asteval>=0.9.22->lmfit) (4.12.0)\n",
            "Requirement already satisfied: future in /usr/local/lib/python3.7/dist-packages (from uncertainties>=3.0.1->lmfit) (0.16.0)\n",
            "Requirement already satisfied: zipp>=0.5 in /usr/local/lib/python3.7/dist-packages (from importlib-metadata->asteval>=0.9.22->lmfit) (3.8.1)\n",
            "Requirement already satisfied: typing-extensions>=3.6.4 in /usr/local/lib/python3.7/dist-packages (from importlib-metadata->asteval>=0.9.22->lmfit) (4.1.1)\n",
            "Building wheels for collected packages: lmfit\n",
            "  Building wheel for lmfit (setup.py) ... \u001b[?25l\u001b[?25hdone\n",
            "  Created wheel for lmfit: filename=lmfit-1.0.3-py3-none-any.whl size=84413 sha256=7c98f26764f6dea0fa4baf62f93843d77aa36bfd934ed164141b5a6fc6e2e701\n",
            "  Stored in directory: /root/.cache/pip/wheels/b9/7a/d1/236aa0f8196b264fda481a112f7cfb1bfde7bfb20235f8e331\n",
            "Successfully built lmfit\n",
            "Installing collected packages: uncertainties, asteval, lmfit\n",
            "Successfully installed asteval-0.9.27 lmfit-1.0.3 uncertainties-3.1.7\n"
          ]
        }
      ]
    },
    {
      "cell_type": "code",
      "source": [
        "from google.colab import drive\n",
        "drive.mount('/content/drive')"
      ],
      "metadata": {
        "colab": {
          "base_uri": "https://localhost:8080/"
        },
        "id": "cr1RaB87in5W",
        "outputId": "63025349-28d3-4a6d-fbe2-3305402ffdf4"
      },
      "execution_count": 3,
      "outputs": [
        {
          "output_type": "stream",
          "name": "stdout",
          "text": [
            "Mounted at /content/drive\n"
          ]
        }
      ]
    },
    {
      "cell_type": "code",
      "source": [
        "import numpy as np\n",
        "import pandas as pd\n",
        "from lmfit import Model\n",
        "from numpy import exp, pi, sqrt\n",
        "import matplotlib.pyplot as plt\n",
        "from scipy.signal import find_peaks,peak_widths"
      ],
      "metadata": {
        "id": "W3wm6UouhAX1"
      },
      "execution_count": 4,
      "outputs": []
    },
    {
      "cell_type": "code",
      "source": [
        "data_path = '/content/drive/MyDrive/1.csv'\n",
        "headers = ['raman_shift', 'intensity']\n",
        "df = pd.read_csv(data_path, names=headers)"
      ],
      "metadata": {
        "id": "xR3POaJDW99K"
      },
      "execution_count": 5,
      "outputs": []
    },
    {
      "cell_type": "code",
      "source": [
        "df"
      ],
      "metadata": {
        "colab": {
          "base_uri": "https://localhost:8080/",
          "height": 424
        },
        "id": "l0huYi_-Q-pG",
        "outputId": "35411b94-6a1b-4cf9-db73-673bd15ae0a7"
      },
      "execution_count": 6,
      "outputs": [
        {
          "output_type": "execute_result",
          "data": {
            "text/plain": [
              "      raman_shift  intensity\n",
              "0     1054.109619 -11.634156\n",
              "1     1055.092589 -11.634156\n",
              "2     1056.075560 -11.634156\n",
              "3     1057.058530 -11.634156\n",
              "4     1058.041500 -11.634156\n",
              "...           ...        ...\n",
              "1995  3015.135258  20.742223\n",
              "1996  3016.118228  10.371119\n",
              "1997  3017.101198   0.000000\n",
              "1998  3018.084168   0.000000\n",
              "1999  3019.067139   0.000000\n",
              "\n",
              "[2000 rows x 2 columns]"
            ],
            "text/html": [
              "\n",
              "  <div id=\"df-b11b4c06-1c20-4e5e-9236-6341ab245f8d\">\n",
              "    <div class=\"colab-df-container\">\n",
              "      <div>\n",
              "<style scoped>\n",
              "    .dataframe tbody tr th:only-of-type {\n",
              "        vertical-align: middle;\n",
              "    }\n",
              "\n",
              "    .dataframe tbody tr th {\n",
              "        vertical-align: top;\n",
              "    }\n",
              "\n",
              "    .dataframe thead th {\n",
              "        text-align: right;\n",
              "    }\n",
              "</style>\n",
              "<table border=\"1\" class=\"dataframe\">\n",
              "  <thead>\n",
              "    <tr style=\"text-align: right;\">\n",
              "      <th></th>\n",
              "      <th>raman_shift</th>\n",
              "      <th>intensity</th>\n",
              "    </tr>\n",
              "  </thead>\n",
              "  <tbody>\n",
              "    <tr>\n",
              "      <th>0</th>\n",
              "      <td>1054.109619</td>\n",
              "      <td>-11.634156</td>\n",
              "    </tr>\n",
              "    <tr>\n",
              "      <th>1</th>\n",
              "      <td>1055.092589</td>\n",
              "      <td>-11.634156</td>\n",
              "    </tr>\n",
              "    <tr>\n",
              "      <th>2</th>\n",
              "      <td>1056.075560</td>\n",
              "      <td>-11.634156</td>\n",
              "    </tr>\n",
              "    <tr>\n",
              "      <th>3</th>\n",
              "      <td>1057.058530</td>\n",
              "      <td>-11.634156</td>\n",
              "    </tr>\n",
              "    <tr>\n",
              "      <th>4</th>\n",
              "      <td>1058.041500</td>\n",
              "      <td>-11.634156</td>\n",
              "    </tr>\n",
              "    <tr>\n",
              "      <th>...</th>\n",
              "      <td>...</td>\n",
              "      <td>...</td>\n",
              "    </tr>\n",
              "    <tr>\n",
              "      <th>1995</th>\n",
              "      <td>3015.135258</td>\n",
              "      <td>20.742223</td>\n",
              "    </tr>\n",
              "    <tr>\n",
              "      <th>1996</th>\n",
              "      <td>3016.118228</td>\n",
              "      <td>10.371119</td>\n",
              "    </tr>\n",
              "    <tr>\n",
              "      <th>1997</th>\n",
              "      <td>3017.101198</td>\n",
              "      <td>0.000000</td>\n",
              "    </tr>\n",
              "    <tr>\n",
              "      <th>1998</th>\n",
              "      <td>3018.084168</td>\n",
              "      <td>0.000000</td>\n",
              "    </tr>\n",
              "    <tr>\n",
              "      <th>1999</th>\n",
              "      <td>3019.067139</td>\n",
              "      <td>0.000000</td>\n",
              "    </tr>\n",
              "  </tbody>\n",
              "</table>\n",
              "<p>2000 rows × 2 columns</p>\n",
              "</div>\n",
              "      <button class=\"colab-df-convert\" onclick=\"convertToInteractive('df-b11b4c06-1c20-4e5e-9236-6341ab245f8d')\"\n",
              "              title=\"Convert this dataframe to an interactive table.\"\n",
              "              style=\"display:none;\">\n",
              "        \n",
              "  <svg xmlns=\"http://www.w3.org/2000/svg\" height=\"24px\"viewBox=\"0 0 24 24\"\n",
              "       width=\"24px\">\n",
              "    <path d=\"M0 0h24v24H0V0z\" fill=\"none\"/>\n",
              "    <path d=\"M18.56 5.44l.94 2.06.94-2.06 2.06-.94-2.06-.94-.94-2.06-.94 2.06-2.06.94zm-11 1L8.5 8.5l.94-2.06 2.06-.94-2.06-.94L8.5 2.5l-.94 2.06-2.06.94zm10 10l.94 2.06.94-2.06 2.06-.94-2.06-.94-.94-2.06-.94 2.06-2.06.94z\"/><path d=\"M17.41 7.96l-1.37-1.37c-.4-.4-.92-.59-1.43-.59-.52 0-1.04.2-1.43.59L10.3 9.45l-7.72 7.72c-.78.78-.78 2.05 0 2.83L4 21.41c.39.39.9.59 1.41.59.51 0 1.02-.2 1.41-.59l7.78-7.78 2.81-2.81c.8-.78.8-2.07 0-2.86zM5.41 20L4 18.59l7.72-7.72 1.47 1.35L5.41 20z\"/>\n",
              "  </svg>\n",
              "      </button>\n",
              "      \n",
              "  <style>\n",
              "    .colab-df-container {\n",
              "      display:flex;\n",
              "      flex-wrap:wrap;\n",
              "      gap: 12px;\n",
              "    }\n",
              "\n",
              "    .colab-df-convert {\n",
              "      background-color: #E8F0FE;\n",
              "      border: none;\n",
              "      border-radius: 50%;\n",
              "      cursor: pointer;\n",
              "      display: none;\n",
              "      fill: #1967D2;\n",
              "      height: 32px;\n",
              "      padding: 0 0 0 0;\n",
              "      width: 32px;\n",
              "    }\n",
              "\n",
              "    .colab-df-convert:hover {\n",
              "      background-color: #E2EBFA;\n",
              "      box-shadow: 0px 1px 2px rgba(60, 64, 67, 0.3), 0px 1px 3px 1px rgba(60, 64, 67, 0.15);\n",
              "      fill: #174EA6;\n",
              "    }\n",
              "\n",
              "    [theme=dark] .colab-df-convert {\n",
              "      background-color: #3B4455;\n",
              "      fill: #D2E3FC;\n",
              "    }\n",
              "\n",
              "    [theme=dark] .colab-df-convert:hover {\n",
              "      background-color: #434B5C;\n",
              "      box-shadow: 0px 1px 3px 1px rgba(0, 0, 0, 0.15);\n",
              "      filter: drop-shadow(0px 1px 2px rgba(0, 0, 0, 0.3));\n",
              "      fill: #FFFFFF;\n",
              "    }\n",
              "  </style>\n",
              "\n",
              "      <script>\n",
              "        const buttonEl =\n",
              "          document.querySelector('#df-b11b4c06-1c20-4e5e-9236-6341ab245f8d button.colab-df-convert');\n",
              "        buttonEl.style.display =\n",
              "          google.colab.kernel.accessAllowed ? 'block' : 'none';\n",
              "\n",
              "        async function convertToInteractive(key) {\n",
              "          const element = document.querySelector('#df-b11b4c06-1c20-4e5e-9236-6341ab245f8d');\n",
              "          const dataTable =\n",
              "            await google.colab.kernel.invokeFunction('convertToInteractive',\n",
              "                                                     [key], {});\n",
              "          if (!dataTable) return;\n",
              "\n",
              "          const docLinkHtml = 'Like what you see? Visit the ' +\n",
              "            '<a target=\"_blank\" href=https://colab.research.google.com/notebooks/data_table.ipynb>data table notebook</a>'\n",
              "            + ' to learn more about interactive tables.';\n",
              "          element.innerHTML = '';\n",
              "          dataTable['output_type'] = 'display_data';\n",
              "          await google.colab.output.renderOutput(dataTable, element);\n",
              "          const docLink = document.createElement('div');\n",
              "          docLink.innerHTML = docLinkHtml;\n",
              "          element.appendChild(docLink);\n",
              "        }\n",
              "      </script>\n",
              "    </div>\n",
              "  </div>\n",
              "  "
            ]
          },
          "metadata": {},
          "execution_count": 6
        }
      ]
    },
    {
      "cell_type": "code",
      "source": [
        "plt.plot(df.raman_shift,df.intensity)"
      ],
      "metadata": {
        "colab": {
          "base_uri": "https://localhost:8080/",
          "height": 282
        },
        "id": "iZFl2XahjqPS",
        "outputId": "f2a18f5b-26f3-4f27-8de5-b32a49da8cbe"
      },
      "execution_count": 7,
      "outputs": [
        {
          "output_type": "execute_result",
          "data": {
            "text/plain": [
              "[<matplotlib.lines.Line2D at 0x7f8338fdc050>]"
            ]
          },
          "metadata": {},
          "execution_count": 7
        },
        {
          "output_type": "display_data",
          "data": {
            "text/plain": [
              "<Figure size 432x288 with 1 Axes>"
            ],
            "image/png": "[encoded data removed]"
          },
          "metadata": {
            "needs_background": "light"
          }
        }
      ]
    },
    {
      "cell_type": "code",
      "source": [
        "\n",
        "\n",
        "def gaussian(x, amp, cen, wid):\n",
        "    return (amp * exp(-(x-cen)**2 / (2*wid**2)))"
      ],
      "metadata": {
        "id": "XUSfHtLSMeoJ"
      },
      "execution_count": 8,
      "outputs": []
    },
    {
      "cell_type": "code",
      "source": [
        "peaks, _ = find_peaks(df.intensity, height=500,distance=150,width=20)\n",
        "widths=peak_widths(df.intensity, peaks, rel_height=0.5)\n",
        "\n",
        "wid=widths[0]/2\n",
        "gmodel = Model(gaussian)\n",
        "plt.plot(df.raman_shift, df.intensity)\n",
        "\n",
        "\n",
        "for index, peak in enumerate(peaks):\n",
        "  range=int(wid[index]*5)\n",
        "\n",
        "  x=df.raman_shift[peak-range:peak+range]\n",
        "  y=df.intensity[peak-range:peak+range]\n",
        "  result = gmodel.fit(y, x=x, amp=df.intensity[peak], cen=df.raman_shift[peak], wid=wid[index])\n",
        "  plt.plot(x, result.best_fit, '-', label='best fit '+str(index))\n",
        "  plt.plot(x, result.init_fit, '--', label='init fit '+str(index))\n",
        "  print(\"Model \"+str(index))\n",
        "  print(result.fit_report())\n",
        "  print('-'*100)\n",
        "  \n",
        "plt.legend()\n",
        "plt.show()\n"
      ],
      "metadata": {
        "colab": {
          "base_uri": "https://localhost:8080/",
          "height": 1000
        },
        "id": "WoJQXN89lZM-",
        "outputId": "ba7674b1-93c3-4832-8e52-c4891b1f45e7"
      },
      "execution_count": 22,
      "outputs": [
        {
          "output_type": "stream",
          "name": "stdout",
          "text": [
            "143    1194.674364\n",
            "144    1195.657334\n",
            "145    1196.640305\n",
            "146    1197.623275\n",
            "147    1198.606245\n",
            "          ...     \n",
            "444    1490.548408\n",
            "445    1491.531378\n",
            "446    1492.514348\n",
            "447    1493.497319\n",
            "448    1494.480289\n",
            "Name: raman_shift, Length: 306, dtype: float64\n",
            "Model 0\n",
            "[[Model]]\n",
            "    Model(gaussian)\n",
            "[[Fit Statistics]]\n",
            "    # fitting method   = leastsq\n",
            "    # function evals   = 29\n",
            "    # data points      = 306\n",
            "    # variables        = 3\n",
            "    chi-square         = 1386717.63\n",
            "    reduced chi-square = 4576.62584\n",
            "    Akaike info crit   = 2582.17269\n",
            "    Bayesian info crit = 2593.34344\n",
            "[[Variables]]\n",
            "    amp:  613.860376 +/- 11.6649688 (1.90%) (init = 655.1589)\n",
            "    cen:  1335.64759 +/- 0.61395176 (0.05%) (init = 1345.069)\n",
            "    wid:  27.9771224 +/- 0.61395176 (2.19%) (init = 30.66685)\n",
            "[[Correlations]] (unreported correlations are < 0.100)\n",
            "    C(amp, wid) = -0.577\n",
            "----------------------------------------------------------------------------------------------------\n",
            "447    1493.497319\n",
            "448    1494.480289\n",
            "449    1495.463259\n",
            "450    1496.446229\n",
            "451    1497.429200\n",
            "          ...     \n",
            "584    1628.164242\n",
            "585    1629.147212\n",
            "586    1630.130183\n",
            "587    1631.113153\n",
            "588    1632.096123\n",
            "Name: raman_shift, Length: 142, dtype: float64\n",
            "Model 1\n",
            "[[Model]]\n",
            "    Model(gaussian)\n",
            "[[Fit Statistics]]\n",
            "    # fitting method   = leastsq\n",
            "    # function evals   = 29\n",
            "    # data points      = 142\n",
            "    # variables        = 3\n",
            "    chi-square         = 35210727.2\n",
            "    reduced chi-square = 253314.584\n",
            "    Akaike info crit   = 1769.78687\n",
            "    Bayesian info crit = 1778.65435\n",
            "[[Variables]]\n",
            "    amp:  9881.13701 +/- 124.222872 (1.26%) (init = 10511.34)\n",
            "    cen:  1564.25654 +/- 0.19823531 (0.01%) (init = 1563.288)\n",
            "    wid:  13.6554890 +/- 0.19823531 (1.45%) (init = 14.34561)\n",
            "[[Correlations]] (unreported correlations are < 0.100)\n",
            "    C(amp, wid) = -0.577\n",
            "----------------------------------------------------------------------------------------------------\n",
            "1417    2446.978456\n",
            "1418    2447.961426\n",
            "1419    2448.944397\n",
            "1420    2449.927367\n",
            "1421    2450.910337\n",
            "           ...     \n",
            "1878    2900.127739\n",
            "1879    2901.110709\n",
            "1880    2902.093680\n",
            "1881    2903.076650\n",
            "1882    2904.059620\n",
            "Name: raman_shift, Length: 466, dtype: float64\n",
            "Model 2\n",
            "[[Model]]\n",
            "    Model(gaussian)\n",
            "[[Fit Statistics]]\n",
            "    # fitting method   = leastsq\n",
            "    # function evals   = 29\n",
            "    # data points      = 466\n",
            "    # variables        = 3\n",
            "    chi-square         = 28103720.4\n",
            "    reduced chi-square = 60699.1802\n",
            "    Akaike info crit   = 5135.36773\n",
            "    Bayesian info crit = 5147.80029\n",
            "[[Variables]]\n",
            "    amp:  4300.79474 +/- 34.2807340 (0.80%) (init = 4488.583)\n",
            "    cen:  2675.24394 +/- 0.39546968 (0.01%) (init = 2676.011)\n",
            "    wid:  42.9668020 +/- 0.39546969 (0.92%) (init = 46.74667)\n",
            "[[Correlations]] (unreported correlations are < 0.100)\n",
            "    C(amp, wid) = -0.577\n",
            "----------------------------------------------------------------------------------------------------\n"
          ]
        },
        {
          "output_type": "display_data",
          "data": {
            "text/plain": [
              "<Figure size 432x288 with 1 Axes>"
            ],
            "image/png": "[encoded data removed]"
          },
          "metadata": {
            "needs_background": "light"
          }
        }
      ]
    },
    {
      "cell_type": "code",
      "source": [
        "import numpy as np\n",
        "from lmfit.models import PseudoVoigtModel\n",
        "\n",
        "\n",
        "# x=df.raman_shift\n",
        "# y=df.intensity\n",
        "\n",
        "peaks, _ = find_peaks(df.intensity, height=500,distance=150,width=20)\n",
        "widths=peak_widths(df.intensity, peaks, rel_height=0.5)\n",
        "\n",
        "wid=widths[0]/2\n",
        "gmodel = Model(gaussian)\n",
        "plt.plot(df.raman_shift, df.intensity)\n",
        "\n",
        "\n",
        "for index, peak in enumerate(peaks):\n",
        "  range=int(wid[index]*6)\n",
        "  x=df.raman_shift[peak-range:peak+range].to_numpy() \n",
        "  y=df.intensity[peak-range:peak+range].to_numpy() \n",
        "  mod = PseudoVoigtModel()\n",
        "  pars = mod.guess(y, x=x)\n",
        "  out = mod.fit(y, pars, x=x)\n",
        "  print('-'*30)\n",
        "  print(out.fit_report(min_correl=0.25))\n",
        "  plt.plot(x, out.best_fit, '-', label='best fit '+str(index))\n",
        "  \n",
        "\n"
      ],
      "metadata": {
        "id": "K4ZrhZ9lg_dp",
        "colab": {
          "base_uri": "https://localhost:8080/",
          "height": 1000
        },
        "outputId": "61a6f6d0-2a69-42f8-eef6-e5c89795bca4"
      },
      "execution_count": 29,
      "outputs": [
        {
          "output_type": "stream",
          "name": "stdout",
          "text": [
            "------------------------------\n",
            "[[Model]]\n",
            "    Model(pvoigt)\n",
            "[[Fit Statistics]]\n",
            "    # fitting method   = leastsq\n",
            "    # function evals   = 418\n",
            "    # data points      = 368\n",
            "    # variables        = 4\n",
            "    chi-square         = 9402101.88\n",
            "    reduced chi-square = 25829.9502\n",
            "    Akaike info crit   = 3742.59681\n",
            "    Bayesian info crit = 3758.22914\n",
            "[[Variables]]\n",
            "    amplitude:  57681.9879 +/- 3574.10055 (6.20%) (init = 351416.5)\n",
            "    center:     1336.92282 +/- 1.43502734 (0.11%) (init = 1396.648)\n",
            "    sigma:      28.2370216 +/- 2.84864187 (10.09%) (init = 105.6693)\n",
            "    fraction:   0.96362288 +/- 0.17385910 (18.04%) (init = 0.5)\n",
            "    fwhm:       56.4740431 +/- 5.69728373 (10.09%) == '2.0000000*sigma'\n",
            "    height:     661.487923 +/- 37.3799474 (5.65%) == '(((1-fraction)*amplitude)/max(1e-15, (sigma*sqrt(pi/log(2))))+(fraction*amplitude)/max(1e-15, (pi*sigma)))'\n",
            "[[Correlations]] (unreported correlations are < 0.250)\n",
            "    C(sigma, fraction)     = -0.702\n",
            "    C(amplitude, fraction) = 0.564\n",
            "------------------------------\n",
            "[[Model]]\n",
            "    Model(pvoigt)\n",
            "[[Fit Statistics]]\n",
            "    # fitting method   = leastsq\n",
            "    # function evals   = 26\n",
            "    # data points      = 172\n",
            "    # variables        = 4\n",
            "    chi-square         = 1006998.54\n",
            "    reduced chi-square = 5994.03894\n",
            "    Akaike info crit   = 1500.09832\n",
            "    Bayesian info crit = 1512.68830\n",
            "[[Variables]]\n",
            "    amplitude:  418527.969 +/- 1215.38330 (0.29%) (init = 514783.5)\n",
            "    center:     1564.18926 +/- 0.02938915 (0.00%) (init = 1564.763)\n",
            "    sigma:      13.9333653 +/- 0.05241696 (0.38%) (init = 13.2701)\n",
            "    fraction:   0.77360503 +/- 0.00813916 (1.05%) (init = 0.5)\n",
            "    fwhm:       27.8667306 +/- 0.10483392 (0.38%) == '2.0000000*sigma'\n",
            "    height:     10590.9782 +/- 24.5132772 (0.23%) == '(((1-fraction)*amplitude)/max(1e-15, (sigma*sqrt(pi/log(2))))+(fraction*amplitude)/max(1e-15, (pi*sigma)))'\n",
            "[[Correlations]] (unreported correlations are < 0.250)\n",
            "    C(amplitude, fraction) = 0.682\n",
            "    C(sigma, fraction)     = -0.650\n",
            "------------------------------\n",
            "[[Model]]\n",
            "    Model(pvoigt)\n",
            "[[Fit Statistics]]\n",
            "    # fitting method   = leastsq\n",
            "    # function evals   = 26\n",
            "    # data points      = 560\n",
            "    # variables        = 4\n",
            "    chi-square         = 16588446.6\n",
            "    reduced chi-square = 29835.3357\n",
            "    Akaike info crit   = 5773.91694\n",
            "    Bayesian info crit = 5791.22868\n",
            "[[Variables]]\n",
            "    amplitude:  570458.984 +/- 4876.56296 (0.85%) (init = 775225)\n",
            "    center:     2675.79506 +/- 0.27206916 (0.01%) (init = 2675.028)\n",
            "    sigma:      45.0045597 +/- 0.47463606 (1.05%) (init = 45.21663)\n",
            "    fraction:   0.72922157 +/- 0.02406203 (3.30%) (init = 0.5)\n",
            "    fwhm:       90.0091194 +/- 0.94927212 (1.05%) == '2.0000000*sigma'\n",
            "    height:     4554.43941 +/- 30.1061001 (0.66%) == '(((1-fraction)*amplitude)/max(1e-15, (sigma*sqrt(pi/log(2))))+(fraction*amplitude)/max(1e-15, (pi*sigma)))'\n",
            "[[Correlations]] (unreported correlations are < 0.250)\n",
            "    C(amplitude, fraction) = 0.702\n",
            "    C(sigma, fraction)     = -0.640\n"
          ]
        },
        {
          "output_type": "display_data",
          "data": {
            "text/plain": [
              "<Figure size 432x288 with 1 Axes>"
            ],
            "image/png": "[encoded data removed]"
          },
          "metadata": {
            "needs_background": "light"
          }
        }
      ]
    },
    {
      "cell_type": "code",
      "source": [
        ""
      ],
      "metadata": {
        "id": "I6O3QfNpJPFH"
      },
      "execution_count": null,
      "outputs": []
    }
  ]
}