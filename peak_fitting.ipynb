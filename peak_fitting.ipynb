{
  "nbformat": 4,
  "nbformat_minor": 0,
  "metadata": {
    "colab": {
      "name": "peak_fitting_sample.ipynb",
      "provenance": [],
      "collapsed_sections": [],
      "authorship_tag": "ABX9TyPGHztdMLjgsa84wZ3/WY8G",
      "include_colab_link": true
    },
    "kernelspec": {
      "name": "python3",
      "display_name": "Python 3"
    },
    "language_info": {
      "name": "python"
    }
  },
  "cells": [
    {
      "cell_type": "markdown",
      "metadata": {
        "id": "view-in-github",
        "colab_type": "text"
      },
      "source": [
        "<a href=\"https://colab.research.google.com/github/yuyangweng/Project/blob/main/peak_fitting.ipynb\" target=\"_parent\"><img src=\"https://colab.research.google.com/assets/colab-badge.svg\" alt=\"Open In Colab\"/></a>"
      ]
    },
    {
      "cell_type": "markdown",
      "source": [
        "# **Peak** **Fitting**\n"
      ],
      "metadata": {
        "id": "cwIwWY8Ma6W8"
      }
    },
    {
      "cell_type": "code",
      "source": [
        "pip install lmfit"
      ],
      "metadata": {
        "colab": {
          "base_uri": "https://localhost:8080/"
        },
        "id": "VN4qZRVzW9ZF",
        "outputId": "4c9f6c4e-4cad-4bc4-a946-dd3ec90ac02d"
      },
      "execution_count": 2,
      "outputs": [
        {
          "output_type": "stream",
          "name": "stdout",
          "text": [
            "Looking in indexes: https://pypi.org/simple, https://us-python.pkg.dev/colab-wheels/public/simple/\n",
            "Requirement already satisfied: lmfit in /usr/local/lib/python3.7/dist-packages (1.0.3)\n",
            "Requirement already satisfied: scipy>=1.4 in /usr/local/lib/python3.7/dist-packages (from lmfit) (1.7.3)\n",
            "Requirement already satisfied: uncertainties>=3.0.1 in /usr/local/lib/python3.7/dist-packages (from lmfit) (3.1.7)\n",
            "Requirement already satisfied: asteval>=0.9.22 in /usr/local/lib/python3.7/dist-packages (from lmfit) (0.9.27)\n",
            "Requirement already satisfied: numpy>=1.18 in /usr/local/lib/python3.7/dist-packages (from lmfit) (1.21.6)\n",
            "Requirement already satisfied: importlib-metadata in /usr/local/lib/python3.7/dist-packages (from asteval>=0.9.22->lmfit) (4.12.0)\n",
            "Requirement already satisfied: future in /usr/local/lib/python3.7/dist-packages (from uncertainties>=3.0.1->lmfit) (0.16.0)\n",
            "Requirement already satisfied: typing-extensions>=3.6.4 in /usr/local/lib/python3.7/dist-packages (from importlib-metadata->asteval>=0.9.22->lmfit) (4.1.1)\n",
            "Requirement already satisfied: zipp>=0.5 in /usr/local/lib/python3.7/dist-packages (from importlib-metadata->asteval>=0.9.22->lmfit) (3.8.1)\n"
          ]
        }
      ]
    },
    {
      "cell_type": "code",
      "source": [
        "from google.colab import drive\n",
        "drive.mount('/content/drive')"
      ],
      "metadata": {
        "colab": {
          "base_uri": "https://localhost:8080/"
        },
        "id": "cr1RaB87in5W",
        "outputId": "f41bdc2a-2406-4549-88be-9b5586ed6ef7"
      },
      "execution_count": 3,
      "outputs": [
        {
          "output_type": "stream",
          "name": "stdout",
          "text": [
            "Drive already mounted at /content/drive; to attempt to forcibly remount, call drive.mount(\"/content/drive\", force_remount=True).\n"
          ]
        }
      ]
    },
    {
      "cell_type": "code",
      "source": [
        "import numpy as np\n",
        "import pandas as pd\n",
        "from lmfit import Model\n",
        "from numpy import exp, pi, sqrt\n",
        "import matplotlib.pyplot as plt\n",
        "from scipy.signal import find_peaks"
      ],
      "metadata": {
        "id": "W3wm6UouhAX1"
      },
      "execution_count": 20,
      "outputs": []
    },
    {
      "cell_type": "code",
      "source": [
        "data_path = '/content/drive/MyDrive/1.csv'\n",
        "headers = ['raman_shift', 'intensity']\n",
        "df = pd.read_csv(data_path, names=headers)"
      ],
      "metadata": {
        "id": "xR3POaJDW99K"
      },
      "execution_count": 19,
      "outputs": []
    },
    {
      "cell_type": "code",
      "source": [
        "df"
      ],
      "metadata": {
        "colab": {
          "base_uri": "https://localhost:8080/",
          "height": 657
        },
        "id": "l0huYi_-Q-pG",
        "outputId": "a034990c-c508-47dc-c2b8-0f9e5c9c9335"
      },
      "execution_count": 18,
      "outputs": [
        {
          "output_type": "execute_result",
          "data": {
            "text/plain": [
              "      raman_shift  intensity\n",
              "0     1054.109619 -11.634156\n",
              "1     1055.092589 -11.634156\n",
              "2     1056.075560 -11.634156\n",
              "3     1057.058530 -11.634156\n",
              "4     1058.041500 -11.634156\n",
              "...           ...        ...\n",
              "1995  3015.135258  20.742223\n",
              "1996  3016.118228  10.371119\n",
              "1997  3017.101198   0.000000\n",
              "1998  3018.084168   0.000000\n",
              "1999  3019.067139   0.000000\n",
              "\n",
              "[2000 rows x 2 columns]"
            ],
            "text/html": [
              "\n",
              "  <div id=\"df-0c40b020-dad3-43bd-a9ac-b4f547ed9562\">\n",
              "    <div class=\"colab-df-container\">\n",
              "      <div>\n",
              "<style scoped>\n",
              "    .dataframe tbody tr th:only-of-type {\n",
              "        vertical-align: middle;\n",
              "    }\n",
              "\n",
              "    .dataframe tbody tr th {\n",
              "        vertical-align: top;\n",
              "    }\n",
              "\n",
              "    .dataframe thead th {\n",
              "        text-align: right;\n",
              "    }\n",
              "</style>\n",
              "<table border=\"1\" class=\"dataframe\">\n",
              "  <thead>\n",
              "    <tr style=\"text-align: right;\">\n",
              "      <th></th>\n",
              "      <th>raman_shift</th>\n",
              "      <th>intensity</th>\n",
              "    </tr>\n",
              "  </thead>\n",
              "  <tbody>\n",
              "    <tr>\n",
              "      <th>0</th>\n",
              "      <td>1054.109619</td>\n",
              "      <td>-11.634156</td>\n",
              "    </tr>\n",
              "    <tr>\n",
              "      <th>1</th>\n",
              "      <td>1055.092589</td>\n",
              "      <td>-11.634156</td>\n",
              "    </tr>\n",
              "    <tr>\n",
              "      <th>2</th>\n",
              "      <td>1056.075560</td>\n",
              "      <td>-11.634156</td>\n",
              "    </tr>\n",
              "    <tr>\n",
              "      <th>3</th>\n",
              "      <td>1057.058530</td>\n",
              "      <td>-11.634156</td>\n",
              "    </tr>\n",
              "    <tr>\n",
              "      <th>4</th>\n",
              "      <td>1058.041500</td>\n",
              "      <td>-11.634156</td>\n",
              "    </tr>\n",
              "    <tr>\n",
              "      <th>...</th>\n",
              "      <td>...</td>\n",
              "      <td>...</td>\n",
              "    </tr>\n",
              "    <tr>\n",
              "      <th>1995</th>\n",
              "      <td>3015.135258</td>\n",
              "      <td>20.742223</td>\n",
              "    </tr>\n",
              "    <tr>\n",
              "      <th>1996</th>\n",
              "      <td>3016.118228</td>\n",
              "      <td>10.371119</td>\n",
              "    </tr>\n",
              "    <tr>\n",
              "      <th>1997</th>\n",
              "      <td>3017.101198</td>\n",
              "      <td>0.000000</td>\n",
              "    </tr>\n",
              "    <tr>\n",
              "      <th>1998</th>\n",
              "      <td>3018.084168</td>\n",
              "      <td>0.000000</td>\n",
              "    </tr>\n",
              "    <tr>\n",
              "      <th>1999</th>\n",
              "      <td>3019.067139</td>\n",
              "      <td>0.000000</td>\n",
              "    </tr>\n",
              "  </tbody>\n",
              "</table>\n",
              "<p>2000 rows × 2 columns</p>\n",
              "</div>\n",
              "      <button class=\"colab-df-convert\" onclick=\"convertToInteractive('df-0c40b020-dad3-43bd-a9ac-b4f547ed9562')\"\n",
              "              title=\"Convert this dataframe to an interactive table.\"\n",
              "              style=\"display:none;\">\n",
              "        \n",
              "  <svg xmlns=\"http://www.w3.org/2000/svg\" height=\"24px\"viewBox=\"0 0 24 24\"\n",
              "       width=\"24px\">\n",
              "    <path d=\"M0 0h24v24H0V0z\" fill=\"none\"/>\n",
              "    <path d=\"M18.56 5.44l.94 2.06.94-2.06 2.06-.94-2.06-.94-.94-2.06-.94 2.06-2.06.94zm-11 1L8.5 8.5l.94-2.06 2.06-.94-2.06-.94L8.5 2.5l-.94 2.06-2.06.94zm10 10l.94 2.06.94-2.06 2.06-.94-2.06-.94-.94-2.06-.94 2.06-2.06.94z\"/><path d=\"M17.41 7.96l-1.37-1.37c-.4-.4-.92-.59-1.43-.59-.52 0-1.04.2-1.43.59L10.3 9.45l-7.72 7.72c-.78.78-.78 2.05 0 2.83L4 21.41c.39.39.9.59 1.41.59.51 0 1.02-.2 1.41-.59l7.78-7.78 2.81-2.81c.8-.78.8-2.07 0-2.86zM5.41 20L4 18.59l7.72-7.72 1.47 1.35L5.41 20z\"/>\n",
              "  </svg>\n",
              "      </button>\n",
              "      \n",
              "  <style>\n",
              "    .colab-df-container {\n",
              "      display:flex;\n",
              "      flex-wrap:wrap;\n",
              "      gap: 12px;\n",
              "    }\n",
              "\n",
              "    .colab-df-convert {\n",
              "      background-color: #E8F0FE;\n",
              "      border: none;\n",
              "      border-radius: 50%;\n",
              "      cursor: pointer;\n",
              "      display: none;\n",
              "      fill: #1967D2;\n",
              "      height: 32px;\n",
              "      padding: 0 0 0 0;\n",
              "      width: 32px;\n",
              "    }\n",
              "\n",
              "    .colab-df-convert:hover {\n",
              "      background-color: #E2EBFA;\n",
              "      box-shadow: 0px 1px 2px rgba(60, 64, 67, 0.3), 0px 1px 3px 1px rgba(60, 64, 67, 0.15);\n",
              "      fill: #174EA6;\n",
              "    }\n",
              "\n",
              "    [theme=dark] .colab-df-convert {\n",
              "      background-color: #3B4455;\n",
              "      fill: #D2E3FC;\n",
              "    }\n",
              "\n",
              "    [theme=dark] .colab-df-convert:hover {\n",
              "      background-color: #434B5C;\n",
              "      box-shadow: 0px 1px 3px 1px rgba(0, 0, 0, 0.15);\n",
              "      filter: drop-shadow(0px 1px 2px rgba(0, 0, 0, 0.3));\n",
              "      fill: #FFFFFF;\n",
              "    }\n",
              "  </style>\n",
              "\n",
              "      <script>\n",
              "        const buttonEl =\n",
              "          document.querySelector('#df-0c40b020-dad3-43bd-a9ac-b4f547ed9562 button.colab-df-convert');\n",
              "        buttonEl.style.display =\n",
              "          google.colab.kernel.accessAllowed ? 'block' : 'none';\n",
              "\n",
              "        async function convertToInteractive(key) {\n",
              "          const element = document.querySelector('#df-0c40b020-dad3-43bd-a9ac-b4f547ed9562');\n",
              "          const dataTable =\n",
              "            await google.colab.kernel.invokeFunction('convertToInteractive',\n",
              "                                                     [key], {});\n",
              "          if (!dataTable) return;\n",
              "\n",
              "          const docLinkHtml = 'Like what you see? Visit the ' +\n",
              "            '<a target=\"_blank\" href=https://colab.research.google.com/notebooks/data_table.ipynb>data table notebook</a>'\n",
              "            + ' to learn more about interactive tables.';\n",
              "          element.innerHTML = '';\n",
              "          dataTable['output_type'] = 'display_data';\n",
              "          await google.colab.output.renderOutput(dataTable, element);\n",
              "          const docLink = document.createElement('div');\n",
              "          docLink.innerHTML = docLinkHtml;\n",
              "          element.appendChild(docLink);\n",
              "        }\n",
              "      </script>\n",
              "    </div>\n",
              "  </div>\n",
              "  "
            ]
          },
          "metadata": {},
          "execution_count": 18
        }
      ]
    },
    {
      "cell_type": "code",
      "source": [
        "plt.plot(df.raman_shift,df.intensity)"
      ],
      "metadata": {
        "colab": {
          "base_uri": "https://localhost:8080/",
          "height": 282
        },
        "id": "iZFl2XahjqPS",
        "outputId": "8b3d07fe-2026-47c3-86d2-0f66e5f94452"
      },
      "execution_count": 29,
      "outputs": [
        {
          "output_type": "execute_result",
          "data": {
            "text/plain": [
              "[<matplotlib.lines.Line2D at 0x7fb85e70d810>]"
            ]
          },
          "metadata": {},
          "execution_count": 29
        },
        {
          "output_type": "display_data",
          "data": {
            "text/plain": [
              "<Figure size 432x288 with 1 Axes>"
            ],
            "image/png": "[encoded data removed]"
          },
          "metadata": {
            "needs_background": "light"
          }
        }
      ]
    },
    {
      "cell_type": "code",
      "source": [
        "def gaussian(x, amp, cen, wid):\n",
        "    return (amp / (sqrt(2*pi) * wid)) * exp(-(x-cen)**2 / (2*wid**2))"
      ],
      "metadata": {
        "id": "XUSfHtLSMeoJ"
      },
      "execution_count": 31,
      "outputs": []
    },
    {
      "cell_type": "code",
      "source": [
        "x=df.raman_shift\n",
        "y=df.intensity\n",
        "\n",
        "peaks, _ = find_peaks(y, height=500,distance=150,width=20)\n",
        "gmodel = Model(gaussian)\n",
        "plt.plot(x, y)\n",
        "\n",
        "for peak in peaks:\n",
        "  result = gmodel.fit(y, x=x, amp=0, cen=x[peak], wid=30)\n",
        "  plt.plot(x, result.best_fit, '-', label='best fit')\n",
        "  print(result.fit_report())\n",
        "  print('-'*100)\n",
        "  \n",
        "plt.legend()\n",
        "plt.show()\n",
        "\n"
      ],
      "metadata": {
        "colab": {
          "base_uri": "https://localhost:8080/",
          "height": 1000
        },
        "id": "Zs5MoIu0kcnz",
        "outputId": "285cb21e-c58f-48ac-8b6b-f913435d9aa3"
      },
      "execution_count": 33,
      "outputs": [
        {
          "output_type": "stream",
          "name": "stdout",
          "text": [
            "[[Model]]\n",
            "    Model(gaussian)\n",
            "[[Fit Statistics]]\n",
            "    # fitting method   = leastsq\n",
            "    # function evals   = 21\n",
            "    # data points      = 2000\n",
            "    # variables        = 3\n",
            "    chi-square         = 3.9194e+09\n",
            "    reduced chi-square = 1962661.04\n",
            "    Akaike info crit   = 28982.6213\n",
            "    Bayesian info crit = 28999.4240\n",
            "[[Variables]]\n",
            "    amp:  43075.7676 +/- 16974.9941 (39.41%) (init = 0)\n",
            "    cen:  1335.63073 +/- 12.7643288 (0.96%) (init = 1345.069)\n",
            "    wid:  28.0121365 +/- 12.7643290 (45.57%) (init = 30)\n",
            "[[Correlations]] (unreported correlations are < 0.100)\n",
            "    C(amp, wid) = 0.577\n",
            "----------------------------------------------------------------------------------------------------\n",
            "[[Model]]\n",
            "    Model(gaussian)\n",
            "[[Fit Statistics]]\n",
            "    # fitting method   = leastsq\n",
            "    # function evals   = 33\n",
            "    # data points      = 2000\n",
            "    # variables        = 3\n",
            "    chi-square         = 1.5343e+09\n",
            "    reduced chi-square = 768315.694\n",
            "    Akaike info crit   = 27106.9097\n",
            "    Bayesian info crit = 27123.7124\n",
            "[[Variables]]\n",
            "    amp:  338228.510 +/- 7405.73011 (2.19%) (init = 0)\n",
            "    cen:  1564.25657 +/- 0.34527611 (0.02%) (init = 1563.288)\n",
            "    wid:  13.6558724 +/- 0.34527611 (2.53%) (init = 30)\n",
            "[[Correlations]] (unreported correlations are < 0.100)\n",
            "    C(amp, wid) = 0.577\n",
            "----------------------------------------------------------------------------------------------------\n",
            "[[Model]]\n",
            "    Model(gaussian)\n",
            "[[Fit Statistics]]\n",
            "    # fitting method   = leastsq\n",
            "    # function evals   = 29\n",
            "    # data points      = 2000\n",
            "    # variables        = 3\n",
            "    chi-square         = 2.5054e+09\n",
            "    reduced chi-square = 1254572.70\n",
            "    Akaike info crit   = 28087.6089\n",
            "    Bayesian info crit = 28104.4116\n",
            "[[Variables]]\n",
            "    amp:  463179.591 +/- 16782.0615 (3.62%) (init = 0)\n",
            "    cen:  2675.24553 +/- 1.79716844 (0.07%) (init = 2676.011)\n",
            "    wid:  42.9623979 +/- 1.79716845 (4.18%) (init = 30)\n",
            "[[Correlations]] (unreported correlations are < 0.100)\n",
            "    C(amp, wid) = 0.577\n",
            "----------------------------------------------------------------------------------------------------\n"
          ]
        },
        {
          "output_type": "display_data",
          "data": {
            "text/plain": [
              "<Figure size 432x288 with 1 Axes>"
            ],
            "image/png": "[encoded data removed]"
          },
          "metadata": {
            "needs_background": "light"
          }
        }
      ]
    },
    {
      "cell_type": "code",
      "source": [
        ""
      ],
      "metadata": {
        "id": "yvIsui6QKlqc"
      },
      "execution_count": null,
      "outputs": []
    }
  ]
}