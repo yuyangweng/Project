{
  "nbformat": 4,
  "nbformat_minor": 0,
  "metadata": {
    "colab": {
      "name": "peak_fitting_pseudo_voigt.ipynb",
      "provenance": [],
      "collapsed_sections": [],
      "toc_visible": true,
      "authorship_tag": "ABX9TyNxcx4B58GP9In5uJopGkIw",
      "include_colab_link": true
    },
    "kernelspec": {
      "name": "python3",
      "display_name": "Python 3"
    },
    "language_info": {
      "name": "python"
    }
  },
  "cells": [
    {
      "cell_type": "markdown",
      "metadata": {
        "id": "view-in-github",
        "colab_type": "text"
      },
      "source": [
        "<a href=\"https://colab.research.google.com/github/yuyangweng/Project/blob/main/peak_fitting_pseudo_voigt.ipynb\" target=\"_parent\"><img src=\"https://colab.research.google.com/assets/colab-badge.svg\" alt=\"Open In Colab\"/></a>"
      ]
    },
    {
      "cell_type": "code",
      "source": [
        "pip install lmfit"
      ],
      "metadata": {
        "colab": {
          "base_uri": "https://localhost:8080/"
        },
        "id": "Egq2xuNV4itv",
        "outputId": "64e61667-6c5b-40c7-c476-d914fcc1300b"
      },
      "execution_count": 1,
      "outputs": [
        {
          "output_type": "stream",
          "name": "stdout",
          "text": [
            "Looking in indexes: https://pypi.org/simple, https://us-python.pkg.dev/colab-wheels/public/simple/\n",
            "Collecting lmfit\n",
            "  Downloading lmfit-1.0.3.tar.gz (292 kB)\n",
            "\u001b[K     |████████████████████████████████| 292 kB 29.8 MB/s \n",
            "\u001b[?25hCollecting asteval>=0.9.22\n",
            "  Downloading asteval-0.9.27-py3-none-any.whl (17 kB)\n",
            "Requirement already satisfied: numpy>=1.18 in /usr/local/lib/python3.7/dist-packages (from lmfit) (1.21.6)\n",
            "Requirement already satisfied: scipy>=1.4 in /usr/local/lib/python3.7/dist-packages (from lmfit) (1.7.3)\n",
            "Collecting uncertainties>=3.0.1\n",
            "  Downloading uncertainties-3.1.7-py2.py3-none-any.whl (98 kB)\n",
            "\u001b[K     |████████████████████████████████| 98 kB 10.0 MB/s \n",
            "\u001b[?25hRequirement already satisfied: importlib-metadata in /usr/local/lib/python3.7/dist-packages (from asteval>=0.9.22->lmfit) (4.12.0)\n",
            "Requirement already satisfied: future in /usr/local/lib/python3.7/dist-packages (from uncertainties>=3.0.1->lmfit) (0.16.0)\n",
            "Requirement already satisfied: typing-extensions>=3.6.4 in /usr/local/lib/python3.7/dist-packages (from importlib-metadata->asteval>=0.9.22->lmfit) (4.1.1)\n",
            "Requirement already satisfied: zipp>=0.5 in /usr/local/lib/python3.7/dist-packages (from importlib-metadata->asteval>=0.9.22->lmfit) (3.8.1)\n",
            "Building wheels for collected packages: lmfit\n",
            "  Building wheel for lmfit (setup.py) ... \u001b[?25l\u001b[?25hdone\n",
            "  Created wheel for lmfit: filename=lmfit-1.0.3-py3-none-any.whl size=84413 sha256=f980ab1ebc9b07b44bb4cfc1df3fbe26db0d09597a3eeadb4a04f9aa6cbe60d3\n",
            "  Stored in directory: /root/.cache/pip/wheels/b9/7a/d1/236aa0f8196b264fda481a112f7cfb1bfde7bfb20235f8e331\n",
            "Successfully built lmfit\n",
            "Installing collected packages: uncertainties, asteval, lmfit\n",
            "Successfully installed asteval-0.9.27 lmfit-1.0.3 uncertainties-3.1.7\n"
          ]
        }
      ]
    },
    {
      "cell_type": "code",
      "source": [
        "from google.colab import drive\n",
        "drive.mount('/content/drive')"
      ],
      "metadata": {
        "colab": {
          "base_uri": "https://localhost:8080/"
        },
        "id": "67Gzr3Gt4qSf",
        "outputId": "21725463-2232-4e03-d088-19bc8015c31b"
      },
      "execution_count": 2,
      "outputs": [
        {
          "output_type": "stream",
          "name": "stdout",
          "text": [
            "Mounted at /content/drive\n"
          ]
        }
      ]
    },
    {
      "cell_type": "code",
      "source": [
        "import numpy as np\n",
        "import pandas as pd\n",
        "from lmfit import Model\n",
        "from numpy import exp, pi, sqrt\n",
        "import matplotlib.pyplot as plt\n",
        "from lmfit.models import PseudoVoigtModel\n",
        "from scipy.signal import find_peaks,peak_widths"
      ],
      "metadata": {
        "id": "bx5lz2rm4s7B"
      },
      "execution_count": 3,
      "outputs": []
    },
    {
      "cell_type": "code",
      "source": [
        "data_path = '/content/drive/MyDrive/THK-reload-1_2.csv'\n",
        "headers = ['raman_shift', 'intensity']\n",
        "df = pd.read_csv(data_path, names=headers)"
      ],
      "metadata": {
        "id": "d9sXrcxj42C7"
      },
      "execution_count": 5,
      "outputs": []
    },
    {
      "cell_type": "code",
      "source": [
        "plt.plot(df.raman_shift,df.intensity)"
      ],
      "metadata": {
        "colab": {
          "base_uri": "https://localhost:8080/",
          "height": 282
        },
        "id": "pR0Xbr745QQJ",
        "outputId": "42c421e9-9b7a-4ff7-da7a-1e7a30f30161"
      },
      "execution_count": 6,
      "outputs": [
        {
          "output_type": "execute_result",
          "data": {
            "text/plain": [
              "[<matplotlib.lines.Line2D at 0x7fba1d99aa50>]"
            ]
          },
          "metadata": {},
          "execution_count": 6
        },
        {
          "output_type": "display_data",
          "data": {
            "text/plain": [
              "<Figure size 432x288 with 1 Axes>"
            ],
            "image/png": "[encoded data removed]"
          },
          "metadata": {
            "needs_background": "light"
          }
        }
      ]
    },
    {
      "cell_type": "code",
      "source": [
        "x=df.raman_shift\n",
        "y=df.intensity\n",
        "\n",
        "\n",
        "pv_model_1 = PseudoVoigtModel(prefix='pv_1')\n",
        "pv_model_2 = PseudoVoigtModel(prefix='pv_2')\n",
        "pv_model_3 = PseudoVoigtModel(prefix='pv_3')\n",
        "\n",
        "pars_1 = pv_model_1.guess(y, x=x)\n",
        "pars_2 = pv_model_2.guess(y, x=x)\n",
        "pars_3 = pv_model_3.guess(y, x=x)\n",
        "pars=pars_1+pars_2+pars_3\n",
        " \n",
        "\n",
        "pseudo_voigt_model=pv_model_1+pv_model_2+pv_model_3\n",
        "result = pseudo_voigt_model.fit(y, pars, x=x)\n",
        "print(result.fit_report())\n",
        "\n",
        "\n",
        "plt.figure(figsize=(16, 10))\n",
        "plt.plot(x, y,'g')\n",
        "plt.plot(x, result.best_fit, 'r--',label='best fit ')\n",
        "\n",
        "plt.show()\n",
        "plt.savefig(\"result.png\")"
      ],
      "metadata": {
        "colab": {
          "base_uri": "https://localhost:8080/",
          "height": 1000
        },
        "id": "_I1xAQqL9xJY",
        "outputId": "d684c9df-229a-4711-b564-1eff006cb46d"
      },
      "execution_count": 43,
      "outputs": [
        {
          "output_type": "stream",
          "name": "stdout",
          "text": [
            "[[Model]]\n",
            "    ((Model(pvoigt, prefix='pv_1') + Model(pvoigt, prefix='pv_2')) + Model(pvoigt, prefix='pv_3'))\n",
            "[[Fit Statistics]]\n",
            "    # fitting method   = leastsq\n",
            "    # function evals   = 10989\n",
            "    # data points      = 1749\n",
            "    # variables        = 12\n",
            "    chi-square         = 1675.42878\n",
            "    reduced chi-square = 0.96455313\n",
            "    Akaike info crit   = -51.1634077\n",
            "    Bayesian info crit = 14.4381860\n",
            "##  Warning: uncertainties could not be estimated:\n",
            "    pv_1fraction:   at boundary\n",
            "    pv_2fraction:   at boundary\n",
            "    pv_3fraction:   at boundary\n",
            "[[Variables]]\n",
            "    pv_1amplitude:  725.438429 (init = 1236.759)\n",
            "    pv_1center:     513.396618 (init = 518.8759)\n",
            "    pv_1sigma:      4.65245955 (init = 3.298024)\n",
            "    pv_1fraction:   1.00000000 (init = 0.5)\n",
            "    pv_1fwhm:       9.30491910 == '2.0000000*pv_1sigma'\n",
            "    pv_1height:     49.6327204 == '(((1-pv_1fraction)*pv_1amplitude)/max(1e-15, (pv_1sigma*sqrt(pi/log(2))))+(pv_1fraction*pv_1amplitude)/max(1e-15, (pi*pv_1sigma)))'\n",
            "    pv_2amplitude: -470.064665 (init = 1236.759)\n",
            "    pv_2center:     516.692778 (init = 518.8759)\n",
            "    pv_2sigma:      10.1904608 (init = 3.298024)\n",
            "    pv_2fraction:   9.8810e-15 (init = 0.5)\n",
            "    pv_2fwhm:       20.3809216 == '2.0000000*pv_2sigma'\n",
            "    pv_2height:    -21.6671395 == '(((1-pv_2fraction)*pv_2amplitude)/max(1e-15, (pv_2sigma*sqrt(pi/log(2))))+(pv_2fraction*pv_2amplitude)/max(1e-15, (pi*pv_2sigma)))'\n",
            "    pv_3amplitude:  936.672196 (init = 1236.759)\n",
            "    pv_3center:     519.848893 (init = 518.8759)\n",
            "    pv_3sigma:      2.87326419 (init = 3.298024)\n",
            "    pv_3fraction:   1.00000000 (init = 0.5)\n",
            "    pv_3fwhm:       5.74652838 == '2.0000000*pv_3sigma'\n",
            "    pv_3height:     103.767701 == '(((1-pv_3fraction)*pv_3amplitude)/max(1e-15, (pv_3sigma*sqrt(pi/log(2))))+(pv_3fraction*pv_3amplitude)/max(1e-15, (pi*pv_3sigma)))'\n"
          ]
        },
        {
          "output_type": "display_data",
          "data": {
            "text/plain": [
              "<Figure size 1152x720 with 1 Axes>"
            ],
            "image/png": "[encoded data removed]"
          },
          "metadata": {
            "needs_background": "light"
          }
        },
        {
          "output_type": "display_data",
          "data": {
            "text/plain": [
              "<Figure size 432x288 with 0 Axes>"
            ]
          },
          "metadata": {}
        }
      ]
    },
    {
      "cell_type": "code",
      "source": [
        ""
      ],
      "metadata": {
        "id": "Jwb15xNrAl0u"
      },
      "execution_count": 42,
      "outputs": []
    },
    {
      "cell_type": "code",
      "source": [
        ""
      ],
      "metadata": {
        "id": "WtrHH1-LKnQT"
      },
      "execution_count": null,
      "outputs": []
    }
  ]
}